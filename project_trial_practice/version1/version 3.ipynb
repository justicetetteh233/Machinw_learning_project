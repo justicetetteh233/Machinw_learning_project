{
 "cells": [
  {
   "cell_type": "markdown",
   "id": "baadd7c5",
   "metadata": {},
   "source": [
    "this session of the code is used to import libraries "
   ]
  },
  {
   "cell_type": "code",
   "execution_count": 1,
   "id": "cb703743",
   "metadata": {},
   "outputs": [],
   "source": [
    "import matplotlib.pyplot as plt\n",
    "import numpy as np\n",
    "import pandas as pd \n",
    "import math "
   ]
  },
  {
   "cell_type": "markdown",
   "id": "14ae41d6",
   "metadata": {},
   "source": [
    "this session of the code is used to collect the data set and split it into train_data, validation_data , test_data.\n",
    "in the ratio 6:2:2"
   ]
  },
  {
   "cell_type": "code",
   "execution_count": 2,
   "id": "0357793d",
   "metadata": {},
   "outputs": [],
   "source": [
    "data_set = pd.read_csv('/home/justice/Desktop/Machine Learning Project/Data set/diabetes.csv')\n",
    "train_data = data_set.iloc[0 : (data_set.shape[0]*6)//10]\n",
    "validation_data = data_set.iloc[((data_set.shape[0]*6)//10)+1 : (data_set.shape[0]*8)//10 ]\n",
    "test_data = data_set.iloc[((data_set.shape[0]*8)//10) + 1 : data_set.shape[0]]"
   ]
  },
  {
   "cell_type": "markdown",
   "id": "6a5be146",
   "metadata": {},
   "source": [
    "this session is making adjustments on the   on data_set , for train_data, checking mean, mode , variance , and normalizing the train_data\n"
   ]
  },
  {
   "cell_type": "code",
   "execution_count": 3,
   "id": "da9b94d7",
   "metadata": {
    "scrolled": true
   },
   "outputs": [
    {
     "name": "stdout",
     "output_type": "stream",
     "text": [
      "Pregnancies                   3.832609\n",
      "Glucose                     121.504348\n",
      "BloodPressure                68.839130\n",
      "SkinThickness                20.430435\n",
      "Insulin                      81.189130\n",
      "BMI                          32.077391\n",
      "DiabetesPedigreeFunction      0.489843\n",
      "Age                          32.913043\n",
      "Outcome                       0.380435\n",
      "dtype: float64\n"
     ]
    }
   ],
   "source": [
    "# checking the attributes of the data set\n",
    "train_data.columns\n",
    "\n",
    "# getting the mean of each data set (system functions)\n",
    "mean_values = train_data.mean()\n",
    "print (mean_values)\n"
   ]
  },
  {
   "cell_type": "markdown",
   "id": "b2d714ef",
   "metadata": {},
   "source": [
    "used the weka application for the feature reduction and  normalization  collecting the data "
   ]
  },
  {
   "cell_type": "code",
   "execution_count": 5,
   "id": "48333de7",
   "metadata": {},
   "outputs": [
    {
     "data": {
      "text/html": [
       "<div>\n",
       "<style scoped>\n",
       "    .dataframe tbody tr th:only-of-type {\n",
       "        vertical-align: middle;\n",
       "    }\n",
       "\n",
       "    .dataframe tbody tr th {\n",
       "        vertical-align: top;\n",
       "    }\n",
       "\n",
       "    .dataframe thead th {\n",
       "        text-align: right;\n",
       "    }\n",
       "</style>\n",
       "<table border=\"1\" class=\"dataframe\">\n",
       "  <thead>\n",
       "    <tr style=\"text-align: right;\">\n",
       "      <th></th>\n",
       "      <th>Pregnancies</th>\n",
       "      <th>Glucose</th>\n",
       "      <th>BMI</th>\n",
       "      <th>DiabetesPedigreeFunction</th>\n",
       "      <th>Age</th>\n",
       "      <th>Outcome</th>\n",
       "    </tr>\n",
       "  </thead>\n",
       "  <tbody>\n",
       "    <tr>\n",
       "      <th>0</th>\n",
       "      <td>0.352941</td>\n",
       "      <td>0.743719</td>\n",
       "      <td>0.500745</td>\n",
       "      <td>0.234415</td>\n",
       "      <td>0.483333</td>\n",
       "      <td>1</td>\n",
       "    </tr>\n",
       "    <tr>\n",
       "      <th>1</th>\n",
       "      <td>0.058824</td>\n",
       "      <td>0.427136</td>\n",
       "      <td>0.396423</td>\n",
       "      <td>0.116567</td>\n",
       "      <td>0.166667</td>\n",
       "      <td>0</td>\n",
       "    </tr>\n",
       "    <tr>\n",
       "      <th>2</th>\n",
       "      <td>0.470588</td>\n",
       "      <td>0.919598</td>\n",
       "      <td>0.347243</td>\n",
       "      <td>0.253629</td>\n",
       "      <td>0.183333</td>\n",
       "      <td>1</td>\n",
       "    </tr>\n",
       "    <tr>\n",
       "      <th>3</th>\n",
       "      <td>0.058824</td>\n",
       "      <td>0.447236</td>\n",
       "      <td>0.418778</td>\n",
       "      <td>0.038002</td>\n",
       "      <td>0.000000</td>\n",
       "      <td>0</td>\n",
       "    </tr>\n",
       "    <tr>\n",
       "      <th>4</th>\n",
       "      <td>0.000000</td>\n",
       "      <td>0.688442</td>\n",
       "      <td>0.642325</td>\n",
       "      <td>0.943638</td>\n",
       "      <td>0.200000</td>\n",
       "      <td>1</td>\n",
       "    </tr>\n",
       "    <tr>\n",
       "      <th>...</th>\n",
       "      <td>...</td>\n",
       "      <td>...</td>\n",
       "      <td>...</td>\n",
       "      <td>...</td>\n",
       "      <td>...</td>\n",
       "      <td>...</td>\n",
       "    </tr>\n",
       "    <tr>\n",
       "      <th>763</th>\n",
       "      <td>0.588235</td>\n",
       "      <td>0.507538</td>\n",
       "      <td>0.490313</td>\n",
       "      <td>0.039710</td>\n",
       "      <td>0.700000</td>\n",
       "      <td>0</td>\n",
       "    </tr>\n",
       "    <tr>\n",
       "      <th>764</th>\n",
       "      <td>0.117647</td>\n",
       "      <td>0.613065</td>\n",
       "      <td>0.548435</td>\n",
       "      <td>0.111870</td>\n",
       "      <td>0.100000</td>\n",
       "      <td>0</td>\n",
       "    </tr>\n",
       "    <tr>\n",
       "      <th>765</th>\n",
       "      <td>0.294118</td>\n",
       "      <td>0.608040</td>\n",
       "      <td>0.390462</td>\n",
       "      <td>0.071307</td>\n",
       "      <td>0.150000</td>\n",
       "      <td>0</td>\n",
       "    </tr>\n",
       "    <tr>\n",
       "      <th>766</th>\n",
       "      <td>0.058824</td>\n",
       "      <td>0.633166</td>\n",
       "      <td>0.448584</td>\n",
       "      <td>0.115713</td>\n",
       "      <td>0.433333</td>\n",
       "      <td>1</td>\n",
       "    </tr>\n",
       "    <tr>\n",
       "      <th>767</th>\n",
       "      <td>0.058824</td>\n",
       "      <td>0.467337</td>\n",
       "      <td>0.453055</td>\n",
       "      <td>0.101196</td>\n",
       "      <td>0.033333</td>\n",
       "      <td>0</td>\n",
       "    </tr>\n",
       "  </tbody>\n",
       "</table>\n",
       "<p>768 rows × 6 columns</p>\n",
       "</div>"
      ],
      "text/plain": [
       "     Pregnancies   Glucose       BMI  DiabetesPedigreeFunction       Age  \\\n",
       "0       0.352941  0.743719  0.500745                  0.234415  0.483333   \n",
       "1       0.058824  0.427136  0.396423                  0.116567  0.166667   \n",
       "2       0.470588  0.919598  0.347243                  0.253629  0.183333   \n",
       "3       0.058824  0.447236  0.418778                  0.038002  0.000000   \n",
       "4       0.000000  0.688442  0.642325                  0.943638  0.200000   \n",
       "..           ...       ...       ...                       ...       ...   \n",
       "763     0.588235  0.507538  0.490313                  0.039710  0.700000   \n",
       "764     0.117647  0.613065  0.548435                  0.111870  0.100000   \n",
       "765     0.294118  0.608040  0.390462                  0.071307  0.150000   \n",
       "766     0.058824  0.633166  0.448584                  0.115713  0.433333   \n",
       "767     0.058824  0.467337  0.453055                  0.101196  0.033333   \n",
       "\n",
       "     Outcome  \n",
       "0          1  \n",
       "1          0  \n",
       "2          1  \n",
       "3          0  \n",
       "4          1  \n",
       "..       ...  \n",
       "763        0  \n",
       "764        0  \n",
       "765        0  \n",
       "766        1  \n",
       "767        0  \n",
       "\n",
       "[768 rows x 6 columns]"
      ]
     },
     "execution_count": 5,
     "metadata": {},
     "output_type": "execute_result"
    }
   ],
   "source": [
    "normalized_data = pd.read_csv('/home/justice/Desktop/Machine Learning Project/Data set/normalised_data.csv')\n",
    "normalized_train_set = normalized_data.iloc[0 : (data_set.shape[0]*6)//10]\n",
    "normalized_validation_set = normalized_data.iloc[((data_set.shape[0]*6)//10)+1 : (data_set.shape[0]*8)//10 ]\n",
    "normalized_test_set = normalized_data.iloc[((data_set.shape[0]*8)//10) + 1 : data_set.shape[0]]\n",
    "normalized_data\n",
    "# print(normalized_data.mean())"
   ]
  },
  {
   "cell_type": "raw",
   "id": "3c682079",
   "metadata": {},
   "source": [
    "performing logistics regression with the on the normal form \n",
    "using the formular (1/(1 + math.exp**-(w0 + w1*normalized_train_set[\"Pregnancies\"]  + w2*normalized_train_set[\"Glucose \"]  + w3*normalized_train_set[\"BMI\"] + w4*normalized_train_set[\"DiabetesPedigreeFunction\"] + w5*normalized_train_set[\"Age\"])))"
   ]
  },
  {
   "cell_type": "code",
   "execution_count": null,
   "id": "f057a8bd",
   "metadata": {},
   "outputs": [],
   "source": [
    "def gradientDescent(learning_rate,)"
   ]
  }
 ],
 "metadata": {
  "kernelspec": {
   "display_name": "Python 3 (ipykernel)",
   "language": "python",
   "name": "python3"
  },
  "language_info": {
   "codemirror_mode": {
    "name": "ipython",
    "version": 3
   },
   "file_extension": ".py",
   "mimetype": "text/x-python",
   "name": "python",
   "nbconvert_exporter": "python",
   "pygments_lexer": "ipython3",
   "version": "3.11.5"
  }
 },
 "nbformat": 4,
 "nbformat_minor": 5
}
