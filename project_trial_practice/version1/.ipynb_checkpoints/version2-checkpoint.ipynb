{
 "cells": [
  {
   "cell_type": "code",
   "execution_count": 1,
   "id": "26dc85df",
   "metadata": {},
   "outputs": [],
   "source": [
    "import matplotlib.pyplot as plt\n",
    "import numpy as np\n",
    "import pandas as pd \n",
    "import math "
   ]
  },
  {
   "cell_type": "markdown",
   "id": "bb8e74b7",
   "metadata": {},
   "source": [
    "THIS PART OF THE CODE IS USED TO \n",
    "COLLECT THE DATA AND CLASSIFY THEM INTO TRAINING AND TEST DATA"
   ]
  },
  {
   "cell_type": "code",
   "execution_count": 2,
   "id": "41cf6405",
   "metadata": {},
   "outputs": [],
   "source": [
    "data_set = pd.read_csv('/home/justice/Desktop/Machine Learning Project/Data set/diabetes.csv')   \n",
    "train_set = data_set.iloc[0:80*data_set.shape[0]//100]\n",
    "test_data = data_set.iloc[(80*data_set.shape[0]//100)+1 : data_set.shape[0]]"
   ]
  },
  {
   "cell_type": "markdown",
   "id": "afa59fee",
   "metadata": {},
   "source": [
    "USING THE FUNCTION (yhat = (cos(w0 + w1p + w2g + w3b + w4s)+1)/2) as my trigonometric regression model \n",
    "this part creates the gradient descent for my model given a my train data"
   ]
  },
  {
   "cell_type": "code",
   "execution_count": 3,
   "id": "842050d1",
   "metadata": {},
   "outputs": [],
   "source": [
    "def gradientDescent(learning_rate, data_set, w0, w1, w2, w3, w4):\n",
    "    n = data_set.shape[0]\n",
    "    dldw0, dldw1, dldw2, dldw3, dldw4 = 0, 0, 0, 0, 0\n",
    "    \n",
    "    # differenciation with respect to w's\n",
    "    for _, row in data_set.iterrows():  # Use a different variable name, like 'row'\n",
    "        const = (row[\"Outcome\"] - (math.cos(w0 + w1 * row[\"Pregnancies\"] + w2 * row[\"Glucose\"] + w3 * row[\"BloodPressure\"] + w4 * row[\"SkinThickness\"]) +1)/2)\n",
    "        dldw0 = dldw0 + const * (1 * math.sin(w0 + w1 * row[\"Pregnancies\"] + w2 * row[\"Glucose\"] + w3 * row[\"BloodPressure\"] + w4 * row[\"SkinThickness\"]) * 1)\n",
    "        dldw1 = dldw1 + const * (1 * row[\"Pregnancies\"] * math.sin(w0 + w1 * row[\"Pregnancies\"] + w2 * row[\"Glucose\"] + w3 * row[\"BloodPressure\"] + w4 * row[\"SkinThickness\"]) * 1)\n",
    "        dldw2 = dldw2 + const * (1 * row[\"Glucose\"] * math.sin(w0 + w1 * row[\"Pregnancies\"] + w2 * row[\"Glucose\"] + w3 * row[\"BloodPressure\"] + w4 * row[\"SkinThickness\"]) * 1)\n",
    "        dldw3 = dldw3 + const * (1 * row[\"BloodPressure\"] * math.sin(w0 + w1 * row[\"Pregnancies\"] + w2 * row[\"Glucose\"] + w3 * row[\"BloodPressure\"] + w4 * row[\"SkinThickness\"]) * 1)\n",
    "        dldw4 = dldw4 + const * (1 * row[\"SkinThickness\"] * math.sin(w0 + w1 * row[\"Pregnancies\"] + w2 * row[\"Glucose\"] + w3 * row[\"BloodPressure\"] + w4 * row[\"SkinThickness\"]) * 1)\n",
    "    \n",
    "    w0 = w0 - dldw0 * learning_rate * (1/n)\n",
    "    w1 = w1 - dldw1 * learning_rate * (1/n)\n",
    "    w2 = w2 - dldw2 * learning_rate * (1/n)\n",
    "    w3 = w3 - dldw3 * learning_rate * (1/n)\n",
    "    w4 = w4 - dldw4 * learning_rate * (1/n)\n",
    "    \n",
    "    return w0,w1,w2,w3,w4"
   ]
  },
  {
   "cell_type": "markdown",
   "id": "25975759",
   "metadata": {},
   "source": [
    "this part of the code is used to calculate the  Error given the data for (mse or test error)"
   ]
  },
  {
   "cell_type": "code",
   "execution_count": 4,
   "id": "30d107e1",
   "metadata": {},
   "outputs": [],
   "source": [
    " def error(data_set, w0, w1, w2, w3, w4):\n",
    "        serr = 0\n",
    "        n = data_set.shape[0]\n",
    "        \n",
    "        for _,row in data_set.iterrows():\n",
    "            serr = serr + (row[\"Outcome\"] - (math.cos(w0 + w1 * row[\"Pregnancies\"] + w2 * row[\"Glucose\"] + w3 * row[\"BloodPressure\"] + w4 * row[\"SkinThickness\"])+ 1)/2)**2\n",
    "            \n",
    "        err = serr/n\n",
    "        \n",
    "        return err\n",
    "                  "
   ]
  },
  {
   "cell_type": "markdown",
   "id": "327876eb",
   "metadata": {},
   "source": [
    "this sessions contains my initial values i want the model to start learning from "
   ]
  },
  {
   "cell_type": "code",
   "execution_count": 44,
   "id": "10ab460b",
   "metadata": {},
   "outputs": [],
   "source": [
    "# training activity\n",
    "# mse = 0\n",
    "w0=  0.9000240147322746 \n",
    "w1 =-0.07500244057552347\n",
    "w2 =-0.01302837357059349 \n",
    "w3= 0.039938012694414916  \n",
    "w4= 0.0021933838445024924 \n",
    "learning_rate  = 0.000000000000001\n",
    "msep = 1\n",
    "i = 0 \n",
    "tsep = 1"
   ]
  },
  {
   "cell_type": "code",
   "execution_count": 45,
   "id": "fb97691c",
   "metadata": {
    "scrolled": true
   },
   "outputs": [
    {
     "name": "stdout",
     "output_type": "stream",
     "text": [
      "1  0.9000240147322746  -0.07500244057552347  -0.013028373570593476  0.03993801269441489  0.0021933838445024932  error 0.2307707694915532 test error 0.21912861971583025 \n",
      "2  0.9000240147322746  -0.07500244057552347  -0.013028373570593462  0.03993801269441486  0.002193383844502494  with error 0.2307707694915532 test error 0.2191286197158303\n"
     ]
    }
   ],
   "source": [
    "while(True):\n",
    "    i = i+1\n",
    "    w0,w1,w2,w3,w4 = gradientDescent(learning_rate,train_set,w0,w1,w2,w3,w4)\n",
    "    trainError = error(train_set, w0, w1, w2, w3, w4)\n",
    "    testError  = error(test_data, w0, w1, w2, w3, w4)\n",
    "#     print (f\"{i}  {w0}  {w1}  {w2}  {w3}  {w4}  with error {trainError} test error {testError}\")\n",
    "    \n",
    "    \n",
    "    if trainError > msep or  trainError == testError or trainError < 0.02 or  i == 100000 or testError > tsep:        \n",
    "        print (f\"{i}  {w0}  {w1}  {w2}  {w3}  {w4}  with error {trainError} test error {testError}\")\n",
    "        break\n",
    "    else:\n",
    "        msep = trainError\n",
    "        tsep = testError\n",
    "        print (f\"{i}  {w0}  {w1}  {w2}  {w3}  {w4}  error {trainError} test error {testError} \")"
   ]
  },
  {
   "cell_type": "markdown",
   "id": "12a262cb",
   "metadata": {},
   "source": [
    "1  0.9000240147322746  -0.07500244057552347  -0.013028373570593518  0.03993801269441497  0.0021933838445024906  with error 0.2307707694915532 test error 0.2191286197158302\n",
    "\n",
    "2  0.9000240149129718  -0.07500244058088704  -0.013028373436019687  0.03993801242496273  0.0021933838514722284  with error 0.23077076947920896 test error 0.2191286197158751\n",
    "\n",
    "at this point the more training leads to overfitting testing the efficiency of the model"
   ]
  },
  {
   "cell_type": "code",
   "execution_count": 34,
   "id": "69376a25",
   "metadata": {},
   "outputs": [],
   "source": [
    "def model_performance(data_set, w0, w1, w2, w3, w4):\n",
    "        wt =0 \n",
    "        wf =0\n",
    "        tt = 0\n",
    "        tf = 0\n",
    "        c = 0\n",
    "        wc =0\n",
    "        n = data_set.shape[0]\n",
    "        ayhat =0\n",
    "        \n",
    "        for _,row in data_set.iterrows():\n",
    "            yhat = (math.cos(w0 + w1 * row[\"Pregnancies\"] + w2 * row[\"Glucose\"] + w3 * row[\"BloodPressure\"] + w4 * row[\"SkinThickness\"])+ 1)/2\n",
    "            if yhat >= 0.5:\n",
    "                ayhat = 1\n",
    "            else:  \n",
    "                ayhat =0\n",
    "            if(ayhat  ==  row[\"Outcome\"]):\n",
    "        #       print(row)\n",
    "                c= c+1\n",
    "                if(ayhat == 0 and row[\"Outcome\"]== 0):\n",
    "                    tf = tf +1\n",
    "                if(ayhat == 1 and row[\"Outcome\"]== 1):\n",
    "                    tt = tt+1\n",
    "            else:\n",
    "                wc = wc +1\n",
    "                if(ayhat == 0 and row[\"Outcome\"]== 1):\n",
    "                    wf = wf + 1\n",
    "                if(ayhat == 1 and row[\"Outcome\"] == 0):\n",
    "                    wt = wt + 1\n",
    "\n",
    "                \n",
    "                \n",
    "        return  f\" total {n} data  to be predicted, number of right prediction is {c}  and wrong predictions is {wc} specifically  the model predict well by saying {tt} people have the sickness and its true, the model also says that {tf}  people do not have the sickness and its true  /// but the model predicts {wt} people sick but they are not sick and also predicts {wf} people as not sick but they are sick\"\n",
    "    "
   ]
  },
  {
   "cell_type": "code",
   "execution_count": 29,
   "id": "715945a8",
   "metadata": {},
   "outputs": [],
   "source": [
    "# model pattitions and testing \n",
    "train_datas = data_set.iloc[0 : (data_set.shape[0]*6)//10]\n",
    "validations_data = data_set.iloc[((data_set.shape[0]*6)//10)+1 : (data_set.shape[0]*8)//10 ]\n",
    "test_datas = data_set.iloc[((data_set.shape[0]*8)//10) + 1 : data_set.shape[0]]"
   ]
  },
  {
   "cell_type": "code",
   "execution_count": 35,
   "id": "632028f8",
   "metadata": {
    "scrolled": true
   },
   "outputs": [
    {
     "data": {
      "text/plain": [
       "' total 153 data  to be predicted, number of right prediction is 102  and wrong predictions is 51 specifically  the model predict well by saying 20 people have the sickness and its true, the model also says that 82  people do not have the sickness and its true  /// but the model predicts 17 people sick but they are not sick and also predicts 34 people as not sick but they are sick'"
      ]
     },
     "execution_count": 35,
     "metadata": {},
     "output_type": "execute_result"
    }
   ],
   "source": [
    "model_performance(test_datas  , 0.9000240147322746 ,-0.07500244057552347 ,-0.013028373570593518 ,0.03993801269441497 ,0.0021933838445024906)"
   ]
  }
 ],
 "metadata": {
  "kernelspec": {
   "display_name": "Python 3 (ipykernel)",
   "language": "python",
   "name": "python3"
  },
  "language_info": {
   "codemirror_mode": {
    "name": "ipython",
    "version": 3
   },
   "file_extension": ".py",
   "mimetype": "text/x-python",
   "name": "python",
   "nbconvert_exporter": "python",
   "pygments_lexer": "ipython3",
   "version": "3.11.5"
  }
 },
 "nbformat": 4,
 "nbformat_minor": 5
}
